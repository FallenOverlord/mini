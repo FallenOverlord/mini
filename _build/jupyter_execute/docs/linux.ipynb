{
 "cells": [
  {
   "cell_type": "markdown",
   "id": "18046ca4",
   "metadata": {},
   "source": [
    "# Linux Basics\n",
    "\n",
    "##connect to machine remotely using ssh:\n",
    "```bash\n",
    "ssh username@hostname\n",
    "```\n",
    "for example:\n",
    "```bash\n",
    "ssh milesw@123.92.105\n",
    "```\n",
    "\n",
    "##Find out the hardware name:\n",
    "```bash\n",
    "uname -m\n",
    "```\n",
    "\n",
    "This is a short sequence of lectures on Python programming for scientific\n",
    "work, written by [Thomas J.  Sargent](http://www.tomsargent.com/) and [John\n",
    "Stachurski](https://johnstachurski.net/).\n",
    "\n",
    "```{note}\n",
    "These lectures were built using the new Sphinx-based [Jupyter Book\n",
    "2.0](https://beta.jupyterbook.org/intro.html) tool set, as part of the\n",
    "[ExecutableBookProject](https://ebp.jupyterbook.org/en/latest/).  They are\n",
    "intended mainly as a demonstration of these tools.\n",
    "Instructions for how to build them from source can be found in the Jupyter\n",
    "Book documentation.\n",
    "```\n",
    "\n",
    "\n",
    "These lectures are a mini-version of a [longer\n",
    "series](https://executablebooks.github.io/quantecon-example/docs/index.html)\n",
    "of lectures, also built using Jupyter Book 2.0.  That series contains more\n",
    "features and applications but also requires more libraries and takes longer to\n",
    "run.  \n",
    "\n",
    "Both lecture series are taken from a [more complete set of\n",
    "lectures](https://python.quantecon.org) on open source computing hosted by\n",
    "[QuantEcon](https://quantecon.org)."
   ]
  }
 ],
 "metadata": {
  "jupytext": {
   "text_representation": {
    "extension": ".md",
    "format_name": "myst"
   }
  },
  "kernelspec": {
   "display_name": "Python 3",
   "language": "python",
   "name": "python3"
  },
  "source_map": [
   10
  ]
 },
 "nbformat": 4,
 "nbformat_minor": 5
}